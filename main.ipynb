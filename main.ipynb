{
 "cells": [
  {
   "cell_type": "markdown",
   "id": "fb6b6e18",
   "metadata": {},
   "source": [
    "## NumPy Learning : \n",
    "Learning..."
   ]
  },
  {
   "cell_type": "code",
   "execution_count": null,
   "id": "f33fd298",
   "metadata": {},
   "outputs": [],
   "source": [
    "import numpy as np"
   ]
  },
  {
   "cell_type": "markdown",
   "id": "4af037ed",
   "metadata": {},
   "source": [
    "### creating array from list"
   ]
  },
  {
   "cell_type": "code",
   "execution_count": null,
   "id": "bb043852",
   "metadata": {},
   "outputs": [],
   "source": [
    "arr_1d =  np.array([1,2,3,4,5])\n",
    "print(\"!D array: \", arr_1d)\n",
    "\n",
    "arr_2d = np.array([1,2,3], [4,5,6])\n",
    "print(\"2D array: \", arr_2d)"
   ]
  },
  {
   "cell_type": "markdown",
   "id": "7737378a",
   "metadata": {},
   "source": [
    "### List vs numpy array "
   ]
  },
  {
   "cell_type": "code",
   "execution_count": null,
   "id": "3797a76b",
   "metadata": {},
   "outputs": [],
   "source": []
  }
 ],
 "metadata": {
  "kernelspec": {
   "display_name": "venv",
   "language": "python",
   "name": "python3"
  },
  "language_info": {
   "codemirror_mode": {
    "name": "ipython",
    "version": 3
   },
   "file_extension": ".py",
   "mimetype": "text/x-python",
   "name": "python",
   "nbconvert_exporter": "python",
   "pygments_lexer": "ipython3",
   "version": "3.13.7"
  }
 },
 "nbformat": 4,
 "nbformat_minor": 5
}

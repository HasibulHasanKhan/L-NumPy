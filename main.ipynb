{
 "cells": [
  {
   "cell_type": "markdown",
   "id": "fb6b6e18",
   "metadata": {},
   "source": [
    "## NumPy Learning : \n",
    "Learning..."
   ]
  },
  {
   "cell_type": "code",
   "execution_count": null,
   "id": "f33fd298",
   "metadata": {
    "vscode": {
     "languageId": "plaintext"
    }
   },
   "outputs": [],
   "source": [
    "import numpy as numpy"
   ]
  },
  {
   "cell_type": "code",
   "execution_count": null,
   "id": "c29658c3",
   "metadata": {
    "vscode": {
     "languageId": "plaintext"
    }
   },
   "outputs": [],
   "source": []
  }
 ],
 "metadata": {
  "language_info": {
   "name": "python"
  }
 },
 "nbformat": 4,
 "nbformat_minor": 5
}
